{
  "nbformat": 4,
  "nbformat_minor": 0,
  "metadata": {
    "colab": {
      "name": "Untitled1.ipynb",
      "provenance": [],
      "collapsed_sections": []
    },
    "kernelspec": {
      "name": "python3",
      "display_name": "Python 3"
    }
  },
  "cells": [
    {
      "cell_type": "markdown",
      "metadata": {
        "id": "O5dOUmTA3VDA"
      },
      "source": [
        "**List's In-built functions**"
      ]
    },
    {
      "cell_type": "code",
      "metadata": {
        "colab": {
          "base_uri": "https://localhost:8080/"
        },
        "id": "MShyP2OT3l3r",
        "outputId": "27baa27f-e87b-41d1-a7ad-2e8b1b30ffad"
      },
      "source": [
        "list1 = [1,2,3,4,5]\r\n",
        "print(min(list1))"
      ],
      "execution_count": 23,
      "outputs": [
        {
          "output_type": "stream",
          "text": [
            "1\n"
          ],
          "name": "stdout"
        }
      ]
    },
    {
      "cell_type": "code",
      "metadata": {
        "colab": {
          "base_uri": "https://localhost:8080/"
        },
        "id": "Om5tJ-HE4Pz7",
        "outputId": "7e2e491d-5ca4-40f3-e327-b7f15773c9c6"
      },
      "source": [
        "list2 = ['a','b','c','d','e','f']\r\n",
        "print(len(list2))"
      ],
      "execution_count": 25,
      "outputs": [
        {
          "output_type": "stream",
          "text": [
            "6\n"
          ],
          "name": "stdout"
        }
      ]
    },
    {
      "cell_type": "code",
      "metadata": {
        "colab": {
          "base_uri": "https://localhost:8080/"
        },
        "id": "S2ebYEjE4_26",
        "outputId": "486e636d-39c2-4315-e31f-2bd3ea880c90"
      },
      "source": [
        "list3 = [1,5,3,8,0]\r\n",
        "print(max(list3))"
      ],
      "execution_count": 24,
      "outputs": [
        {
          "output_type": "stream",
          "text": [
            "8\n"
          ],
          "name": "stdout"
        }
      ]
    },
    {
      "cell_type": "markdown",
      "metadata": {
        "id": "NTOVkSVs6LTy"
      },
      "source": [
        "**Dictionary’s In-Built Functions**"
      ]
    },
    {
      "cell_type": "code",
      "metadata": {
        "colab": {
          "base_uri": "https://localhost:8080/"
        },
        "id": "BuTrflSRDQUc",
        "outputId": "dea82f44-7c33-464c-8c54-c6af5d730fae"
      },
      "source": [
        "dict1 = {'Name': 'xyz', 'Age': 25, 'Address': 'Pune'};\r\n",
        "print(len(dict1))"
      ],
      "execution_count": 30,
      "outputs": [
        {
          "output_type": "stream",
          "text": [
            "3\n"
          ],
          "name": "stdout"
        }
      ]
    }
  ]
}