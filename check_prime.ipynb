{
  "nbformat": 4,
  "nbformat_minor": 0,
  "metadata": {
    "colab": {
      "name": "check_prime.ipynb",
      "provenance": []
    },
    "kernelspec": {
      "name": "python3",
      "display_name": "Python 3"
    }
  },
  "cells": [
    {
      "cell_type": "code",
      "metadata": {
        "colab": {
          "base_uri": "https://localhost:8080/"
        },
        "id": "9RkOSFogzwEf",
        "outputId": "da355fa0-3002-4686-84cd-1cb9be2f59ee"
      },
      "source": [
        "number = int(input(\"Enter a number : \"))\r\n",
        "def check_prime(num):\r\n",
        "  if num > 1:\r\n",
        "    for i in range(2,num):\r\n",
        "      if (num % i == 0):\r\n",
        "        return 'is not prime number'\r\n",
        "        break\r\n",
        "    else:\r\n",
        "      return 'is prime number'\r\n",
        "  else:\r\n",
        "      return 'is not prime number'\r\n",
        "\r\n",
        "value = check_prime(number)\r\n",
        "print(f'{number} {value}')"
      ],
      "execution_count": 24,
      "outputs": [
        {
          "output_type": "stream",
          "text": [
            "Enter a number : 6\n",
            "6 is not prime number\n"
          ],
          "name": "stdout"
        }
      ]
    }
  ]
}