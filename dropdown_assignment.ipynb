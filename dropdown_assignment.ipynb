{
  "nbformat": 4,
  "nbformat_minor": 0,
  "metadata": {
    "colab": {
      "name": "Untitled2.ipynb",
      "provenance": []
    },
    "kernelspec": {
      "name": "python3",
      "display_name": "Python 3"
    }
  },
  "cells": [
    {
      "cell_type": "markdown",
      "metadata": {
        "id": "rBkrjJLEgygs"
      },
      "source": [
        "**Pilot dropdown assignment**"
      ]
    },
    {
      "cell_type": "code",
      "metadata": {
        "colab": {
          "base_uri": "https://localhost:8080/"
        },
        "id": "0Yo135huH1gY",
        "outputId": "16d430c3-35e3-48b2-c07b-a224b2cbe235"
      },
      "source": [
        "while True:\r\n",
        "  try:\r\n",
        "    altitude = int(input('enter your current altitude : '))\r\n",
        "    if (altitude < 1000):\r\n",
        "      print('Safe to land')\r\n",
        "      break\r\n",
        "    elif (altitude > 1000 and altitude < 5000):\r\n",
        "      print('take down to 1000')\r\n",
        "    else:\r\n",
        "      print('go around and try later')\r\n",
        "  except:\r\n",
        "    print('Enter digits only')"
      ],
      "execution_count": 3,
      "outputs": [
        {
          "output_type": "stream",
          "text": [
            "enter your current altitude : 3400\n",
            "take down to 1000\n",
            "enter your current altitude : 5600\n",
            "go around and try later\n",
            "enter your current altitude : 300\n",
            "Safe to land\n"
          ],
          "name": "stdout"
        }
      ]
    }
  ]
}